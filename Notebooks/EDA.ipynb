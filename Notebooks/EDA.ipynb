{
 "cells": [
  {
   "cell_type": "code",
   "execution_count": 24,
   "id": "84be56f9",
   "metadata": {},
   "outputs": [],
   "source": [
    "import pandas as pd\n",
    "import plotly.express as px\n",
    "import streamlit"
   ]
  },
  {
   "cell_type": "code",
   "execution_count": 25,
   "id": "ed821b95",
   "metadata": {},
   "outputs": [],
   "source": [
    "curry_stats = pd.read_csv('../steph_curry_regular_season_stats.csv')"
   ]
  },
  {
   "cell_type": "code",
   "execution_count": 26,
   "id": "d033aabb",
   "metadata": {},
   "outputs": [
    {
     "data": {
      "text/html": [
       "<div>\n",
       "<style scoped>\n",
       "    .dataframe tbody tr th:only-of-type {\n",
       "        vertical-align: middle;\n",
       "    }\n",
       "\n",
       "    .dataframe tbody tr th {\n",
       "        vertical-align: top;\n",
       "    }\n",
       "\n",
       "    .dataframe thead th {\n",
       "        text-align: right;\n",
       "    }\n",
       "</style>\n",
       "<table border=\"1\" class=\"dataframe\">\n",
       "  <thead>\n",
       "    <tr style=\"text-align: right;\">\n",
       "      <th></th>\n",
       "      <th>Season_year</th>\n",
       "      <th>Season_div</th>\n",
       "      <th>Date</th>\n",
       "      <th>OPP</th>\n",
       "      <th>Result</th>\n",
       "      <th>T Score</th>\n",
       "      <th>O Score</th>\n",
       "      <th>MIN</th>\n",
       "      <th>FG</th>\n",
       "      <th>FGM</th>\n",
       "      <th>...</th>\n",
       "      <th>FTM</th>\n",
       "      <th>FTA</th>\n",
       "      <th>FT%</th>\n",
       "      <th>REB</th>\n",
       "      <th>AST</th>\n",
       "      <th>BLK</th>\n",
       "      <th>STL</th>\n",
       "      <th>PF</th>\n",
       "      <th>TO</th>\n",
       "      <th>PTS</th>\n",
       "    </tr>\n",
       "  </thead>\n",
       "  <tbody>\n",
       "    <tr>\n",
       "      <th>0</th>\n",
       "      <td>2009-2010</td>\n",
       "      <td>Regular</td>\n",
       "      <td>Wed 4/14</td>\n",
       "      <td>POR</td>\n",
       "      <td>W</td>\n",
       "      <td>122</td>\n",
       "      <td>116</td>\n",
       "      <td>48.0</td>\n",
       "      <td>13-25</td>\n",
       "      <td>13</td>\n",
       "      <td>...</td>\n",
       "      <td>12</td>\n",
       "      <td>12</td>\n",
       "      <td>100.0</td>\n",
       "      <td>9</td>\n",
       "      <td>8</td>\n",
       "      <td>1</td>\n",
       "      <td>2</td>\n",
       "      <td>0</td>\n",
       "      <td>2</td>\n",
       "      <td>42</td>\n",
       "    </tr>\n",
       "    <tr>\n",
       "      <th>1</th>\n",
       "      <td>2009-2010</td>\n",
       "      <td>Regular</td>\n",
       "      <td>Tue 4/13</td>\n",
       "      <td>UTA</td>\n",
       "      <td>L</td>\n",
       "      <td>94</td>\n",
       "      <td>103</td>\n",
       "      <td>41.0</td>\n",
       "      <td>5-15</td>\n",
       "      <td>5</td>\n",
       "      <td>...</td>\n",
       "      <td>6</td>\n",
       "      <td>6</td>\n",
       "      <td>100.0</td>\n",
       "      <td>5</td>\n",
       "      <td>6</td>\n",
       "      <td>0</td>\n",
       "      <td>2</td>\n",
       "      <td>4</td>\n",
       "      <td>2</td>\n",
       "      <td>17</td>\n",
       "    </tr>\n",
       "    <tr>\n",
       "      <th>2</th>\n",
       "      <td>2009-2010</td>\n",
       "      <td>Regular</td>\n",
       "      <td>Sun 4/11</td>\n",
       "      <td>OKC</td>\n",
       "      <td>W</td>\n",
       "      <td>120</td>\n",
       "      <td>117</td>\n",
       "      <td>35.0</td>\n",
       "      <td>9-16</td>\n",
       "      <td>9</td>\n",
       "      <td>...</td>\n",
       "      <td>4</td>\n",
       "      <td>6</td>\n",
       "      <td>66.7</td>\n",
       "      <td>7</td>\n",
       "      <td>7</td>\n",
       "      <td>0</td>\n",
       "      <td>1</td>\n",
       "      <td>2</td>\n",
       "      <td>5</td>\n",
       "      <td>25</td>\n",
       "    </tr>\n",
       "    <tr>\n",
       "      <th>3</th>\n",
       "      <td>2009-2010</td>\n",
       "      <td>Regular</td>\n",
       "      <td>Sat 4/10</td>\n",
       "      <td>LAC</td>\n",
       "      <td>L</td>\n",
       "      <td>104</td>\n",
       "      <td>107</td>\n",
       "      <td>41.0</td>\n",
       "      <td>10-19</td>\n",
       "      <td>10</td>\n",
       "      <td>...</td>\n",
       "      <td>4</td>\n",
       "      <td>4</td>\n",
       "      <td>100.0</td>\n",
       "      <td>9</td>\n",
       "      <td>4</td>\n",
       "      <td>0</td>\n",
       "      <td>3</td>\n",
       "      <td>5</td>\n",
       "      <td>3</td>\n",
       "      <td>29</td>\n",
       "    </tr>\n",
       "    <tr>\n",
       "      <th>4</th>\n",
       "      <td>2009-2010</td>\n",
       "      <td>Regular</td>\n",
       "      <td>Wed 4/7</td>\n",
       "      <td>MIN</td>\n",
       "      <td>W</td>\n",
       "      <td>116</td>\n",
       "      <td>107</td>\n",
       "      <td>44.0</td>\n",
       "      <td>12-22</td>\n",
       "      <td>12</td>\n",
       "      <td>...</td>\n",
       "      <td>0</td>\n",
       "      <td>0</td>\n",
       "      <td>0.0</td>\n",
       "      <td>8</td>\n",
       "      <td>14</td>\n",
       "      <td>0</td>\n",
       "      <td>7</td>\n",
       "      <td>4</td>\n",
       "      <td>4</td>\n",
       "      <td>27</td>\n",
       "    </tr>\n",
       "    <tr>\n",
       "      <th>5</th>\n",
       "      <td>2009-2010</td>\n",
       "      <td>Regular</td>\n",
       "      <td>Tue 4/6</td>\n",
       "      <td>WSH</td>\n",
       "      <td>L</td>\n",
       "      <td>94</td>\n",
       "      <td>112</td>\n",
       "      <td>33.0</td>\n",
       "      <td>10-21</td>\n",
       "      <td>10</td>\n",
       "      <td>...</td>\n",
       "      <td>4</td>\n",
       "      <td>4</td>\n",
       "      <td>100.0</td>\n",
       "      <td>1</td>\n",
       "      <td>4</td>\n",
       "      <td>0</td>\n",
       "      <td>2</td>\n",
       "      <td>2</td>\n",
       "      <td>2</td>\n",
       "      <td>27</td>\n",
       "    </tr>\n",
       "    <tr>\n",
       "      <th>6</th>\n",
       "      <td>2009-2010</td>\n",
       "      <td>Regular</td>\n",
       "      <td>Sun 4/4</td>\n",
       "      <td>TOR</td>\n",
       "      <td>W</td>\n",
       "      <td>113</td>\n",
       "      <td>112</td>\n",
       "      <td>44.0</td>\n",
       "      <td>10-23</td>\n",
       "      <td>10</td>\n",
       "      <td>...</td>\n",
       "      <td>4</td>\n",
       "      <td>6</td>\n",
       "      <td>66.7</td>\n",
       "      <td>8</td>\n",
       "      <td>12</td>\n",
       "      <td>2</td>\n",
       "      <td>3</td>\n",
       "      <td>4</td>\n",
       "      <td>5</td>\n",
       "      <td>29</td>\n",
       "    </tr>\n",
       "    <tr>\n",
       "      <th>7</th>\n",
       "      <td>2009-2010</td>\n",
       "      <td>Regular</td>\n",
       "      <td>Fri 4/2</td>\n",
       "      <td>NYK</td>\n",
       "      <td>W</td>\n",
       "      <td>128</td>\n",
       "      <td>117</td>\n",
       "      <td>29.0</td>\n",
       "      <td>7-21</td>\n",
       "      <td>7</td>\n",
       "      <td>...</td>\n",
       "      <td>0</td>\n",
       "      <td>0</td>\n",
       "      <td>0.0</td>\n",
       "      <td>4</td>\n",
       "      <td>10</td>\n",
       "      <td>0</td>\n",
       "      <td>1</td>\n",
       "      <td>1</td>\n",
       "      <td>2</td>\n",
       "      <td>15</td>\n",
       "    </tr>\n",
       "    <tr>\n",
       "      <th>8</th>\n",
       "      <td>2009-2010</td>\n",
       "      <td>Regular</td>\n",
       "      <td>Wed 3/31</td>\n",
       "      <td>UTA</td>\n",
       "      <td>L</td>\n",
       "      <td>104</td>\n",
       "      <td>128</td>\n",
       "      <td>34.0</td>\n",
       "      <td>6-16</td>\n",
       "      <td>6</td>\n",
       "      <td>...</td>\n",
       "      <td>2</td>\n",
       "      <td>3</td>\n",
       "      <td>66.7</td>\n",
       "      <td>2</td>\n",
       "      <td>6</td>\n",
       "      <td>0</td>\n",
       "      <td>0</td>\n",
       "      <td>5</td>\n",
       "      <td>4</td>\n",
       "      <td>15</td>\n",
       "    </tr>\n",
       "    <tr>\n",
       "      <th>9</th>\n",
       "      <td>2009-2010</td>\n",
       "      <td>Regular</td>\n",
       "      <td>Sun 3/28</td>\n",
       "      <td>LAC</td>\n",
       "      <td>W</td>\n",
       "      <td>121</td>\n",
       "      <td>103</td>\n",
       "      <td>40.0</td>\n",
       "      <td>8-15</td>\n",
       "      <td>8</td>\n",
       "      <td>...</td>\n",
       "      <td>0</td>\n",
       "      <td>0</td>\n",
       "      <td>0.0</td>\n",
       "      <td>4</td>\n",
       "      <td>7</td>\n",
       "      <td>0</td>\n",
       "      <td>1</td>\n",
       "      <td>5</td>\n",
       "      <td>3</td>\n",
       "      <td>18</td>\n",
       "    </tr>\n",
       "  </tbody>\n",
       "</table>\n",
       "<p>10 rows × 27 columns</p>\n",
       "</div>"
      ],
      "text/plain": [
       "  Season_year Season_div      Date  OPP Result  T Score  O Score   MIN     FG  \\\n",
       "0   2009-2010    Regular  Wed 4/14  POR      W      122      116  48.0  13-25   \n",
       "1   2009-2010    Regular  Tue 4/13  UTA      L       94      103  41.0   5-15   \n",
       "2   2009-2010    Regular  Sun 4/11  OKC      W      120      117  35.0   9-16   \n",
       "3   2009-2010    Regular  Sat 4/10  LAC      L      104      107  41.0  10-19   \n",
       "4   2009-2010    Regular   Wed 4/7  MIN      W      116      107  44.0  12-22   \n",
       "5   2009-2010    Regular   Tue 4/6  WSH      L       94      112  33.0  10-21   \n",
       "6   2009-2010    Regular   Sun 4/4  TOR      W      113      112  44.0  10-23   \n",
       "7   2009-2010    Regular   Fri 4/2  NYK      W      128      117  29.0   7-21   \n",
       "8   2009-2010    Regular  Wed 3/31  UTA      L      104      128  34.0   6-16   \n",
       "9   2009-2010    Regular  Sun 3/28  LAC      W      121      103  40.0   8-15   \n",
       "\n",
       "   FGM  ...  FTM  FTA    FT%  REB  AST  BLK STL  PF  TO  PTS  \n",
       "0   13  ...   12   12  100.0    9    8    1   2   0   2   42  \n",
       "1    5  ...    6    6  100.0    5    6    0   2   4   2   17  \n",
       "2    9  ...    4    6   66.7    7    7    0   1   2   5   25  \n",
       "3   10  ...    4    4  100.0    9    4    0   3   5   3   29  \n",
       "4   12  ...    0    0    0.0    8   14    0   7   4   4   27  \n",
       "5   10  ...    4    4  100.0    1    4    0   2   2   2   27  \n",
       "6   10  ...    4    6   66.7    8   12    2   3   4   5   29  \n",
       "7    7  ...    0    0    0.0    4   10    0   1   1   2   15  \n",
       "8    6  ...    2    3   66.7    2    6    0   0   5   4   15  \n",
       "9    8  ...    0    0    0.0    4    7    0   1   5   3   18  \n",
       "\n",
       "[10 rows x 27 columns]"
      ]
     },
     "execution_count": 26,
     "metadata": {},
     "output_type": "execute_result"
    }
   ],
   "source": [
    "curry_stats.head(10)"
   ]
  },
  {
   "cell_type": "code",
   "execution_count": 27,
   "id": "e265258c",
   "metadata": {},
   "outputs": [
    {
     "name": "stdout",
     "output_type": "stream",
     "text": [
      "<class 'pandas.core.frame.DataFrame'>\n",
      "RangeIndex: 881 entries, 0 to 880\n",
      "Data columns (total 27 columns):\n",
      " #   Column       Non-Null Count  Dtype  \n",
      "---  ------       --------------  -----  \n",
      " 0   Season_year  881 non-null    object \n",
      " 1   Season_div   881 non-null    object \n",
      " 2   Date         881 non-null    object \n",
      " 3   OPP          881 non-null    object \n",
      " 4   Result       881 non-null    object \n",
      " 5   T Score      881 non-null    int64  \n",
      " 6   O Score      881 non-null    int64  \n",
      " 7   MIN          881 non-null    float64\n",
      " 8   FG           881 non-null    object \n",
      " 9   FGM          881 non-null    int64  \n",
      " 10  FGA          881 non-null    int64  \n",
      " 11  FG%          881 non-null    float64\n",
      " 12  3PT          881 non-null    object \n",
      " 13  3PTM         881 non-null    int64  \n",
      " 14  3PTA         881 non-null    int64  \n",
      " 15  3P%          881 non-null    float64\n",
      " 16  FT           881 non-null    object \n",
      " 17  FTM          881 non-null    int64  \n",
      " 18  FTA          881 non-null    int64  \n",
      " 19  FT%          881 non-null    float64\n",
      " 20  REB          881 non-null    int64  \n",
      " 21  AST          881 non-null    int64  \n",
      " 22  BLK          881 non-null    int64  \n",
      " 23  STL          881 non-null    int64  \n",
      " 24  PF           881 non-null    int64  \n",
      " 25  TO           881 non-null    int64  \n",
      " 26  PTS          881 non-null    int64  \n",
      "dtypes: float64(4), int64(15), object(8)\n",
      "memory usage: 186.0+ KB\n"
     ]
    }
   ],
   "source": [
    "curry_stats.info()"
   ]
  },
  {
   "cell_type": "code",
   "execution_count": 32,
   "id": "b5a4c977",
   "metadata": {},
   "outputs": [
    {
     "data": {
      "application/vnd.plotly.v1+json": {
       "config": {
        "plotlyServerURL": "https://plot.ly"
       },
       "data": [
        {
         "bingroup": "x",
         "hovertemplate": "PTS=%{x}<br>count=%{y}<extra></extra>",
         "legendgroup": "",
         "marker": {
          "color": "green",
          "pattern": {
           "shape": ""
          }
         },
         "name": "",
         "orientation": "v",
         "showlegend": false,
         "type": "histogram",
         "x": {
          "bdata": "KhEZHRsbHQ8PEhEeDgkdIw8MGR8JEhseESANGAskGRcGDg4WDxsZIA8aEgkVDBAaCQ8ADREOGwgOEwYOFg0LCgcNCxIMDQ4OAAYICQUHDA4SGxsUHAwGIwoXEAgLDwoTGBYPFxYJHRQhBxIEDhcMDQ8XEBsbFA4gIgsNFw8IDxUPDxgJEQQAFScJIBQaFRENHRUHERkiChQQGQAKDwwJCyQLCAkOJBALHQMPIBIMFAoVFQQPIy8WGBYSFCcRGSMYHh0IHxoQGA0aHhk2JhITFB0bEiAOBx0RGhUfHBQdFhgKHxYLFxQbIA0SGQkbFhwWGRQUFAYZHxYRDBMSFQwXGgUgLx4YHw0LFyAhFB8XJRsNChINDhMiGwUTERkNHRccIhEsFhcmIRgcJRgTIg8OFiQJHQ4PDhIeHB4UISsWFhskIB0QFhYPFhkWBRIWJgoKDyItGRgLHBsZJiEYGBAQExkJJAwWExolFhIgGRkUFhozFxkgFRYKFhQbEyAbFxUTIA0ZDhYMIhMiHRQVExMWEBocKA8IHhMREBwiHBUfGC4lERsVJx0fGhQhIRMOHyIbIyIMKRIhLjMqJBcfGiMaMw0XDiUnGSMmGiYfJhoRHgUXExAaGRwmHRwsKBoTKRgTGyglIi4cFhgiHx41GSgUHCoTKhgdIBUbERccGR0aFxgfFxkTGyMNCxoSDSMdJyscFRsYGBQYGB4oIxYOHA8ZDxkTCB4WERoTDR8cGSIYHxYUECMeIRguDRUcHBcaHQIiHBkVFSwRFhEUFRgXDjEZIBMeFxggLR0gJh8eFxwbIRgnIwkWFhAWFR8bFB4dJRwWBRsoBxEZJRwaDyQZIRgSERccIRgQGSQgGBkUEw4pGhgmCxwpHzAcDiojIhkdDyoWIBQjCiYUKh4bChMcJRcjHTMdHh8gFwkaFxcuFSQxIiUpHiUbJSASMS8hKjUmICklJCASGyAOIxAdGCUdGSQbKCAgORwmHBsQJBgeGhojFAsmDR4+Gh8kExQDLwgiDx4VIhsSGSEYIxASFCgTHRINFicSEwwbHA4JHBchLh4eFhoSFh8bFwwhIBkMKCUYKBkyFBMPFCQXGy0VGhkiFSEnFB0UHhAfMhckHSgbFRwdJiMiGh0pFA8YJhQgDB4TIBkhFiEYMhAbKC8nFyAfIRUhIiE=",
          "dtype": "i1"
         },
         "xaxis": "x",
         "yaxis": "y"
        }
       ],
       "layout": {
        "barmode": "relative",
        "legend": {
         "tracegroupgap": 0
        },
        "margin": {
         "t": 60
        },
        "template": {
         "data": {
          "candlestick": [
           {
            "decreasing": {
             "line": {
              "color": "#000033"
             }
            },
            "increasing": {
             "line": {
              "color": "#000032"
             }
            },
            "type": "candlestick"
           }
          ],
          "contour": [
           {
            "colorscale": [
             [
              0,
              "#000011"
             ],
             [
              0.1111111111111111,
              "#000012"
             ],
             [
              0.2222222222222222,
              "#000013"
             ],
             [
              0.3333333333333333,
              "#000014"
             ],
             [
              0.4444444444444444,
              "#000015"
             ],
             [
              0.5555555555555556,
              "#000016"
             ],
             [
              0.6666666666666666,
              "#000017"
             ],
             [
              0.7777777777777778,
              "#000018"
             ],
             [
              0.8888888888888888,
              "#000019"
             ],
             [
              1,
              "#000020"
             ]
            ],
            "type": "contour"
           }
          ],
          "contourcarpet": [
           {
            "colorscale": [
             [
              0,
              "#000011"
             ],
             [
              0.1111111111111111,
              "#000012"
             ],
             [
              0.2222222222222222,
              "#000013"
             ],
             [
              0.3333333333333333,
              "#000014"
             ],
             [
              0.4444444444444444,
              "#000015"
             ],
             [
              0.5555555555555556,
              "#000016"
             ],
             [
              0.6666666666666666,
              "#000017"
             ],
             [
              0.7777777777777778,
              "#000018"
             ],
             [
              0.8888888888888888,
              "#000019"
             ],
             [
              1,
              "#000020"
             ]
            ],
            "type": "contourcarpet"
           }
          ],
          "heatmap": [
           {
            "colorscale": [
             [
              0,
              "#000011"
             ],
             [
              0.1111111111111111,
              "#000012"
             ],
             [
              0.2222222222222222,
              "#000013"
             ],
             [
              0.3333333333333333,
              "#000014"
             ],
             [
              0.4444444444444444,
              "#000015"
             ],
             [
              0.5555555555555556,
              "#000016"
             ],
             [
              0.6666666666666666,
              "#000017"
             ],
             [
              0.7777777777777778,
              "#000018"
             ],
             [
              0.8888888888888888,
              "#000019"
             ],
             [
              1,
              "#000020"
             ]
            ],
            "type": "heatmap"
           }
          ],
          "histogram2d": [
           {
            "colorscale": [
             [
              0,
              "#000011"
             ],
             [
              0.1111111111111111,
              "#000012"
             ],
             [
              0.2222222222222222,
              "#000013"
             ],
             [
              0.3333333333333333,
              "#000014"
             ],
             [
              0.4444444444444444,
              "#000015"
             ],
             [
              0.5555555555555556,
              "#000016"
             ],
             [
              0.6666666666666666,
              "#000017"
             ],
             [
              0.7777777777777778,
              "#000018"
             ],
             [
              0.8888888888888888,
              "#000019"
             ],
             [
              1,
              "#000020"
             ]
            ],
            "type": "histogram2d"
           }
          ],
          "icicle": [
           {
            "textfont": {
             "color": "white"
            },
            "type": "icicle"
           }
          ],
          "sankey": [
           {
            "textfont": {
             "color": "#000036"
            },
            "type": "sankey"
           }
          ],
          "scatter": [
           {
            "marker": {
             "line": {
              "width": 0
             }
            },
            "type": "scatter"
           }
          ],
          "table": [
           {
            "cells": {
             "fill": {
              "color": "#000038"
             },
             "font": {
              "color": "#000037"
             },
             "line": {
              "color": "#000039"
             }
            },
            "header": {
             "fill": {
              "color": "#000040"
             },
             "font": {
              "color": "#000036"
             },
             "line": {
              "color": "#000039"
             }
            },
            "type": "table"
           }
          ],
          "waterfall": [
           {
            "connector": {
             "line": {
              "color": "#000036",
              "width": 2
             }
            },
            "decreasing": {
             "marker": {
              "color": "#000033"
             }
            },
            "increasing": {
             "marker": {
              "color": "#000032"
             }
            },
            "totals": {
             "marker": {
              "color": "#000034"
             }
            },
            "type": "waterfall"
           }
          ]
         },
         "layout": {
          "coloraxis": {
           "colorscale": [
            [
             0,
             "#000011"
            ],
            [
             0.1111111111111111,
             "#000012"
            ],
            [
             0.2222222222222222,
             "#000013"
            ],
            [
             0.3333333333333333,
             "#000014"
            ],
            [
             0.4444444444444444,
             "#000015"
            ],
            [
             0.5555555555555556,
             "#000016"
            ],
            [
             0.6666666666666666,
             "#000017"
            ],
            [
             0.7777777777777778,
             "#000018"
            ],
            [
             0.8888888888888888,
             "#000019"
            ],
            [
             1,
             "#000020"
            ]
           ]
          },
          "colorscale": {
           "diverging": [
            [
             0,
             "#000021"
            ],
            [
             0.1,
             "#000022"
            ],
            [
             0.2,
             "#000023"
            ],
            [
             0.3,
             "#000024"
            ],
            [
             0.4,
             "#000025"
            ],
            [
             0.5,
             "#000026"
            ],
            [
             0.6,
             "#000027"
            ],
            [
             0.7,
             "#000028"
            ],
            [
             0.8,
             "#000029"
            ],
            [
             0.9,
             "#000030"
            ],
            [
             1,
             "#000031"
            ]
           ],
           "sequential": [
            [
             0,
             "#000011"
            ],
            [
             0.1111111111111111,
             "#000012"
            ],
            [
             0.2222222222222222,
             "#000013"
            ],
            [
             0.3333333333333333,
             "#000014"
            ],
            [
             0.4444444444444444,
             "#000015"
            ],
            [
             0.5555555555555556,
             "#000016"
            ],
            [
             0.6666666666666666,
             "#000017"
            ],
            [
             0.7777777777777778,
             "#000018"
            ],
            [
             0.8888888888888888,
             "#000019"
            ],
            [
             1,
             "#000020"
            ]
           ],
           "sequentialminus": [
            [
             0,
             "#000011"
            ],
            [
             0.1111111111111111,
             "#000012"
            ],
            [
             0.2222222222222222,
             "#000013"
            ],
            [
             0.3333333333333333,
             "#000014"
            ],
            [
             0.4444444444444444,
             "#000015"
            ],
            [
             0.5555555555555556,
             "#000016"
            ],
            [
             0.6666666666666666,
             "#000017"
            ],
            [
             0.7777777777777778,
             "#000018"
            ],
            [
             0.8888888888888888,
             "#000019"
            ],
            [
             1,
             "#000020"
            ]
           ]
          },
          "colorway": [
           "#000001",
           "#000002",
           "#000003",
           "#000004",
           "#000005",
           "#000006",
           "#000007",
           "#000008",
           "#000009",
           "#000010"
          ]
         }
        },
        "xaxis": {
         "anchor": "y",
         "domain": [
          0,
          1
         ],
         "title": {
          "text": "PTS"
         }
        },
        "yaxis": {
         "anchor": "x",
         "domain": [
          0,
          1
         ],
         "title": {
          "text": "count"
         }
        }
       }
      }
     },
     "metadata": {},
     "output_type": "display_data"
    }
   ],
   "source": [
    "pts_per_game = px.histogram(curry_stats, x=\"PTS\")\n",
    "hist.show()"
   ]
  },
  {
   "cell_type": "code",
   "execution_count": 29,
   "id": "439a8b23",
   "metadata": {},
   "outputs": [
    {
     "data": {
      "application/vnd.plotly.v1+json": {
       "config": {
        "plotlyServerURL": "https://plot.ly"
       },
       "data": [
        {
         "bingroup": "x",
         "hovertemplate": "3PTM=%{x}<br>count=%{y}<extra></extra>",
         "legendgroup": "",
         "marker": {
          "color": "#000001",
          "pattern": {
           "shape": ""
          }
         },
         "name": "",
         "orientation": "v",
         "showlegend": false,
         "type": "histogram",
         "x": {
          "bdata": "BAEDBQMDBQEBAgMEAgEFBQICBAUBAwMCAQEDAQEHAQMAAgICAQMEAwMFAQMBAQAGAQAAAwMCBQABAwABAgABAgEBAQICAQICAAABAQABAgACAwMCAwEBBQEEAgEBAgIFBAQCAgEBAwQFAAEAAwICAQACAgMEAQIDAwACBQEAAwEDAQQABAAAAwQBAwIEAAEBAwIAAgECAAEBAwACAQIBAwYDAAEDBgEDAgACBgICAwIDAQAEBwkDAgQDBAcCAwYEBgUABQYCAwICAwMLBwEDAgQCAQQCAQYBBQMDBgIHAwQBBgQBBAMIBwEDAgEEAgUEAwMEBQICAwQAAAMCAgICBgAHBwQCBQIBAwYFAQMDBgUCAQEBAQIEBQEDAwUBBAYDBAEIBAIFBgMCBgQDAgIBAQgBBQECAgQGAgQBBgUCAQMFBAYCAgQABAIEAAIFCQICAwUIBQUBBgQGCAUFAwICAgYBBwIFBgYFAwMFBAIDBQQKAgQFAgECAwICAgcEAwQBBQMEAQIBBQEGAwMBAQMDAQEGCAICBQMDAAQGBAEDAgoEAwMECQgFBgIFBAIBBggEBwcDBwEFDAoGBQMHBQcBCwMFAwYIAwcHCAUECAQEBQEGAQICAgIGAwUJCAQDCQQDAwYFBQgDAwIIBwQIBAUFBggDCQQEAwUFAwcGAgUBAgYFAgIABQYCAQQCAQgDCwkGAwcFAgUDBAUFBQMDAwIFAwQFAgUCAwMAAgUEBAQEBwIBAgMFBwQNAAIFBQQDAwAGBAQEBQgDAwMEAgUDAQgFCAUGBAIFCAQGCgUFAwMDBAMEBAIDAgIFAwcDAwQCBgQDAQMJAQUFCwYFBQgGBQMEBAQFBQQEBQoFBQUDAwIKBgYCAgMJCAsFAwoFBQIGAgYGBQMFAgcECQYDAAMEBwIHBgsGBgUFAwEEAgIJAQMLBggIBwYFBwQCCgsECwoIBQUDBQYCBAYBBQIDAQcGBQcCCgQGCwQHBgUEBwUFBAMFAwEJAQUIBAUFAgIBBwIFAQQEBQMCAQgBBQMEBAcDBgIBBAYEBAICBAEBBgUFCAQFBQUDBgcFBgMHBgYBCQkDCQMJBAUDBgcEBAgCBQMGAgcIBAICBQMECAQGBAoFAgUFCAQEBAYGAwIFBQMGAggEBQQGBAcFBwMDBgcIBAQDBwQHBQQ=",
          "dtype": "i1"
         },
         "xaxis": "x",
         "yaxis": "y"
        }
       ],
       "layout": {
        "barmode": "relative",
        "legend": {
         "tracegroupgap": 0
        },
        "margin": {
         "t": 60
        },
        "template": {
         "data": {
          "candlestick": [
           {
            "decreasing": {
             "line": {
              "color": "#000033"
             }
            },
            "increasing": {
             "line": {
              "color": "#000032"
             }
            },
            "type": "candlestick"
           }
          ],
          "contour": [
           {
            "colorscale": [
             [
              0,
              "#000011"
             ],
             [
              0.1111111111111111,
              "#000012"
             ],
             [
              0.2222222222222222,
              "#000013"
             ],
             [
              0.3333333333333333,
              "#000014"
             ],
             [
              0.4444444444444444,
              "#000015"
             ],
             [
              0.5555555555555556,
              "#000016"
             ],
             [
              0.6666666666666666,
              "#000017"
             ],
             [
              0.7777777777777778,
              "#000018"
             ],
             [
              0.8888888888888888,
              "#000019"
             ],
             [
              1,
              "#000020"
             ]
            ],
            "type": "contour"
           }
          ],
          "contourcarpet": [
           {
            "colorscale": [
             [
              0,
              "#000011"
             ],
             [
              0.1111111111111111,
              "#000012"
             ],
             [
              0.2222222222222222,
              "#000013"
             ],
             [
              0.3333333333333333,
              "#000014"
             ],
             [
              0.4444444444444444,
              "#000015"
             ],
             [
              0.5555555555555556,
              "#000016"
             ],
             [
              0.6666666666666666,
              "#000017"
             ],
             [
              0.7777777777777778,
              "#000018"
             ],
             [
              0.8888888888888888,
              "#000019"
             ],
             [
              1,
              "#000020"
             ]
            ],
            "type": "contourcarpet"
           }
          ],
          "heatmap": [
           {
            "colorscale": [
             [
              0,
              "#000011"
             ],
             [
              0.1111111111111111,
              "#000012"
             ],
             [
              0.2222222222222222,
              "#000013"
             ],
             [
              0.3333333333333333,
              "#000014"
             ],
             [
              0.4444444444444444,
              "#000015"
             ],
             [
              0.5555555555555556,
              "#000016"
             ],
             [
              0.6666666666666666,
              "#000017"
             ],
             [
              0.7777777777777778,
              "#000018"
             ],
             [
              0.8888888888888888,
              "#000019"
             ],
             [
              1,
              "#000020"
             ]
            ],
            "type": "heatmap"
           }
          ],
          "histogram2d": [
           {
            "colorscale": [
             [
              0,
              "#000011"
             ],
             [
              0.1111111111111111,
              "#000012"
             ],
             [
              0.2222222222222222,
              "#000013"
             ],
             [
              0.3333333333333333,
              "#000014"
             ],
             [
              0.4444444444444444,
              "#000015"
             ],
             [
              0.5555555555555556,
              "#000016"
             ],
             [
              0.6666666666666666,
              "#000017"
             ],
             [
              0.7777777777777778,
              "#000018"
             ],
             [
              0.8888888888888888,
              "#000019"
             ],
             [
              1,
              "#000020"
             ]
            ],
            "type": "histogram2d"
           }
          ],
          "icicle": [
           {
            "textfont": {
             "color": "white"
            },
            "type": "icicle"
           }
          ],
          "sankey": [
           {
            "textfont": {
             "color": "#000036"
            },
            "type": "sankey"
           }
          ],
          "scatter": [
           {
            "marker": {
             "line": {
              "width": 0
             }
            },
            "type": "scatter"
           }
          ],
          "table": [
           {
            "cells": {
             "fill": {
              "color": "#000038"
             },
             "font": {
              "color": "#000037"
             },
             "line": {
              "color": "#000039"
             }
            },
            "header": {
             "fill": {
              "color": "#000040"
             },
             "font": {
              "color": "#000036"
             },
             "line": {
              "color": "#000039"
             }
            },
            "type": "table"
           }
          ],
          "waterfall": [
           {
            "connector": {
             "line": {
              "color": "#000036",
              "width": 2
             }
            },
            "decreasing": {
             "marker": {
              "color": "#000033"
             }
            },
            "increasing": {
             "marker": {
              "color": "#000032"
             }
            },
            "totals": {
             "marker": {
              "color": "#000034"
             }
            },
            "type": "waterfall"
           }
          ]
         },
         "layout": {
          "coloraxis": {
           "colorscale": [
            [
             0,
             "#000011"
            ],
            [
             0.1111111111111111,
             "#000012"
            ],
            [
             0.2222222222222222,
             "#000013"
            ],
            [
             0.3333333333333333,
             "#000014"
            ],
            [
             0.4444444444444444,
             "#000015"
            ],
            [
             0.5555555555555556,
             "#000016"
            ],
            [
             0.6666666666666666,
             "#000017"
            ],
            [
             0.7777777777777778,
             "#000018"
            ],
            [
             0.8888888888888888,
             "#000019"
            ],
            [
             1,
             "#000020"
            ]
           ]
          },
          "colorscale": {
           "diverging": [
            [
             0,
             "#000021"
            ],
            [
             0.1,
             "#000022"
            ],
            [
             0.2,
             "#000023"
            ],
            [
             0.3,
             "#000024"
            ],
            [
             0.4,
             "#000025"
            ],
            [
             0.5,
             "#000026"
            ],
            [
             0.6,
             "#000027"
            ],
            [
             0.7,
             "#000028"
            ],
            [
             0.8,
             "#000029"
            ],
            [
             0.9,
             "#000030"
            ],
            [
             1,
             "#000031"
            ]
           ],
           "sequential": [
            [
             0,
             "#000011"
            ],
            [
             0.1111111111111111,
             "#000012"
            ],
            [
             0.2222222222222222,
             "#000013"
            ],
            [
             0.3333333333333333,
             "#000014"
            ],
            [
             0.4444444444444444,
             "#000015"
            ],
            [
             0.5555555555555556,
             "#000016"
            ],
            [
             0.6666666666666666,
             "#000017"
            ],
            [
             0.7777777777777778,
             "#000018"
            ],
            [
             0.8888888888888888,
             "#000019"
            ],
            [
             1,
             "#000020"
            ]
           ],
           "sequentialminus": [
            [
             0,
             "#000011"
            ],
            [
             0.1111111111111111,
             "#000012"
            ],
            [
             0.2222222222222222,
             "#000013"
            ],
            [
             0.3333333333333333,
             "#000014"
            ],
            [
             0.4444444444444444,
             "#000015"
            ],
            [
             0.5555555555555556,
             "#000016"
            ],
            [
             0.6666666666666666,
             "#000017"
            ],
            [
             0.7777777777777778,
             "#000018"
            ],
            [
             0.8888888888888888,
             "#000019"
            ],
            [
             1,
             "#000020"
            ]
           ]
          },
          "colorway": [
           "#000001",
           "#000002",
           "#000003",
           "#000004",
           "#000005",
           "#000006",
           "#000007",
           "#000008",
           "#000009",
           "#000010"
          ]
         }
        },
        "xaxis": {
         "anchor": "y",
         "domain": [
          0,
          1
         ],
         "title": {
          "text": "3PTM"
         }
        },
        "yaxis": {
         "anchor": "x",
         "domain": [
          0,
          1
         ],
         "title": {
          "text": "count"
         }
        }
       }
      }
     },
     "metadata": {},
     "output_type": "display_data"
    }
   ],
   "source": [
    "threes_per_game = px.histogram(curry_stats, x='3PTM')\n",
    "threes_per_game.show()"
   ]
  },
  {
   "cell_type": "code",
   "execution_count": null,
   "id": "b1872b66",
   "metadata": {},
   "outputs": [],
   "source": []
  }
 ],
 "metadata": {
  "kernelspec": {
   "display_name": "curry_project_env",
   "language": "python",
   "name": "python3"
  },
  "language_info": {
   "codemirror_mode": {
    "name": "ipython",
    "version": 3
   },
   "file_extension": ".py",
   "mimetype": "text/x-python",
   "name": "python",
   "nbconvert_exporter": "python",
   "pygments_lexer": "ipython3",
   "version": "3.13.2"
  }
 },
 "nbformat": 4,
 "nbformat_minor": 5
}
